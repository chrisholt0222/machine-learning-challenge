{
 "cells": [
  {
   "cell_type": "code",
   "execution_count": 2,
   "metadata": {},
   "outputs": [],
   "source": [
    "import numpy as np\n",
    "import pandas as pd\n",
    "import matplotlib.pyplot as plt"
   ]
  },
  {
   "cell_type": "markdown",
   "metadata": {},
   "source": [
    "# Read the CSV and Perform Basic Data Cleaning"
   ]
  },
  {
   "cell_type": "code",
   "execution_count": 3,
   "metadata": {
    "scrolled": true
   },
   "outputs": [
    {
     "data": {
      "text/html": [
       "<div>\n",
       "<style scoped>\n",
       "    .dataframe tbody tr th:only-of-type {\n",
       "        vertical-align: middle;\n",
       "    }\n",
       "\n",
       "    .dataframe tbody tr th {\n",
       "        vertical-align: top;\n",
       "    }\n",
       "\n",
       "    .dataframe thead th {\n",
       "        text-align: right;\n",
       "    }\n",
       "</style>\n",
       "<table border=\"1\" class=\"dataframe\">\n",
       "  <thead>\n",
       "    <tr style=\"text-align: right;\">\n",
       "      <th></th>\n",
       "      <th>koi_disposition</th>\n",
       "      <th>koi_fpflag_nt</th>\n",
       "      <th>koi_fpflag_ss</th>\n",
       "      <th>koi_fpflag_co</th>\n",
       "      <th>koi_fpflag_ec</th>\n",
       "      <th>koi_period</th>\n",
       "      <th>koi_period_err1</th>\n",
       "      <th>koi_time0bk</th>\n",
       "      <th>koi_time0bk_err1</th>\n",
       "      <th>koi_impact</th>\n",
       "      <th>...</th>\n",
       "      <th>koi_steff_err2</th>\n",
       "      <th>koi_slogg</th>\n",
       "      <th>koi_slogg_err1</th>\n",
       "      <th>koi_slogg_err2</th>\n",
       "      <th>koi_srad</th>\n",
       "      <th>koi_srad_err1</th>\n",
       "      <th>koi_srad_err2</th>\n",
       "      <th>ra</th>\n",
       "      <th>dec</th>\n",
       "      <th>koi_kepmag</th>\n",
       "    </tr>\n",
       "  </thead>\n",
       "  <tbody>\n",
       "    <tr>\n",
       "      <th>0</th>\n",
       "      <td>CONFIRMED</td>\n",
       "      <td>0</td>\n",
       "      <td>0</td>\n",
       "      <td>0</td>\n",
       "      <td>0</td>\n",
       "      <td>54.418383</td>\n",
       "      <td>2.479000e-04</td>\n",
       "      <td>162.513840</td>\n",
       "      <td>0.003520</td>\n",
       "      <td>0.586</td>\n",
       "      <td>...</td>\n",
       "      <td>-81</td>\n",
       "      <td>4.467</td>\n",
       "      <td>0.064</td>\n",
       "      <td>-0.096</td>\n",
       "      <td>0.927</td>\n",
       "      <td>0.105</td>\n",
       "      <td>-0.061</td>\n",
       "      <td>291.93423</td>\n",
       "      <td>48.141651</td>\n",
       "      <td>15.347</td>\n",
       "    </tr>\n",
       "    <tr>\n",
       "      <th>1</th>\n",
       "      <td>FALSE POSITIVE</td>\n",
       "      <td>0</td>\n",
       "      <td>1</td>\n",
       "      <td>0</td>\n",
       "      <td>0</td>\n",
       "      <td>19.899140</td>\n",
       "      <td>1.490000e-05</td>\n",
       "      <td>175.850252</td>\n",
       "      <td>0.000581</td>\n",
       "      <td>0.969</td>\n",
       "      <td>...</td>\n",
       "      <td>-176</td>\n",
       "      <td>4.544</td>\n",
       "      <td>0.044</td>\n",
       "      <td>-0.176</td>\n",
       "      <td>0.868</td>\n",
       "      <td>0.233</td>\n",
       "      <td>-0.078</td>\n",
       "      <td>297.00482</td>\n",
       "      <td>48.134129</td>\n",
       "      <td>15.436</td>\n",
       "    </tr>\n",
       "    <tr>\n",
       "      <th>2</th>\n",
       "      <td>FALSE POSITIVE</td>\n",
       "      <td>0</td>\n",
       "      <td>1</td>\n",
       "      <td>0</td>\n",
       "      <td>0</td>\n",
       "      <td>1.736952</td>\n",
       "      <td>2.630000e-07</td>\n",
       "      <td>170.307565</td>\n",
       "      <td>0.000115</td>\n",
       "      <td>1.276</td>\n",
       "      <td>...</td>\n",
       "      <td>-174</td>\n",
       "      <td>4.564</td>\n",
       "      <td>0.053</td>\n",
       "      <td>-0.168</td>\n",
       "      <td>0.791</td>\n",
       "      <td>0.201</td>\n",
       "      <td>-0.067</td>\n",
       "      <td>285.53461</td>\n",
       "      <td>48.285210</td>\n",
       "      <td>15.597</td>\n",
       "    </tr>\n",
       "    <tr>\n",
       "      <th>3</th>\n",
       "      <td>CONFIRMED</td>\n",
       "      <td>0</td>\n",
       "      <td>0</td>\n",
       "      <td>0</td>\n",
       "      <td>0</td>\n",
       "      <td>2.525592</td>\n",
       "      <td>3.760000e-06</td>\n",
       "      <td>171.595550</td>\n",
       "      <td>0.001130</td>\n",
       "      <td>0.701</td>\n",
       "      <td>...</td>\n",
       "      <td>-211</td>\n",
       "      <td>4.438</td>\n",
       "      <td>0.070</td>\n",
       "      <td>-0.210</td>\n",
       "      <td>1.046</td>\n",
       "      <td>0.334</td>\n",
       "      <td>-0.133</td>\n",
       "      <td>288.75488</td>\n",
       "      <td>48.226200</td>\n",
       "      <td>15.509</td>\n",
       "    </tr>\n",
       "    <tr>\n",
       "      <th>4</th>\n",
       "      <td>CONFIRMED</td>\n",
       "      <td>0</td>\n",
       "      <td>0</td>\n",
       "      <td>0</td>\n",
       "      <td>0</td>\n",
       "      <td>4.134435</td>\n",
       "      <td>1.050000e-05</td>\n",
       "      <td>172.979370</td>\n",
       "      <td>0.001900</td>\n",
       "      <td>0.762</td>\n",
       "      <td>...</td>\n",
       "      <td>-232</td>\n",
       "      <td>4.486</td>\n",
       "      <td>0.054</td>\n",
       "      <td>-0.229</td>\n",
       "      <td>0.972</td>\n",
       "      <td>0.315</td>\n",
       "      <td>-0.105</td>\n",
       "      <td>296.28613</td>\n",
       "      <td>48.224670</td>\n",
       "      <td>15.714</td>\n",
       "    </tr>\n",
       "  </tbody>\n",
       "</table>\n",
       "<p>5 rows × 37 columns</p>\n",
       "</div>"
      ],
      "text/plain": [
       "  koi_disposition  koi_fpflag_nt  koi_fpflag_ss  koi_fpflag_co  koi_fpflag_ec  \\\n",
       "0       CONFIRMED              0              0              0              0   \n",
       "1  FALSE POSITIVE              0              1              0              0   \n",
       "2  FALSE POSITIVE              0              1              0              0   \n",
       "3       CONFIRMED              0              0              0              0   \n",
       "4       CONFIRMED              0              0              0              0   \n",
       "\n",
       "   koi_period  koi_period_err1  koi_time0bk  koi_time0bk_err1  koi_impact  \\\n",
       "0   54.418383     2.479000e-04   162.513840          0.003520       0.586   \n",
       "1   19.899140     1.490000e-05   175.850252          0.000581       0.969   \n",
       "2    1.736952     2.630000e-07   170.307565          0.000115       1.276   \n",
       "3    2.525592     3.760000e-06   171.595550          0.001130       0.701   \n",
       "4    4.134435     1.050000e-05   172.979370          0.001900       0.762   \n",
       "\n",
       "   ...  koi_steff_err2  koi_slogg  koi_slogg_err1  koi_slogg_err2  koi_srad  \\\n",
       "0  ...             -81      4.467           0.064          -0.096     0.927   \n",
       "1  ...            -176      4.544           0.044          -0.176     0.868   \n",
       "2  ...            -174      4.564           0.053          -0.168     0.791   \n",
       "3  ...            -211      4.438           0.070          -0.210     1.046   \n",
       "4  ...            -232      4.486           0.054          -0.229     0.972   \n",
       "\n",
       "   koi_srad_err1  koi_srad_err2         ra        dec  koi_kepmag  \n",
       "0          0.105         -0.061  291.93423  48.141651      15.347  \n",
       "1          0.233         -0.078  297.00482  48.134129      15.436  \n",
       "2          0.201         -0.067  285.53461  48.285210      15.597  \n",
       "3          0.334         -0.133  288.75488  48.226200      15.509  \n",
       "4          0.315         -0.105  296.28613  48.224670      15.714  \n",
       "\n",
       "[5 rows x 37 columns]"
      ]
     },
     "execution_count": 3,
     "metadata": {},
     "output_type": "execute_result"
    }
   ],
   "source": [
    "df = pd.read_csv(\"exoplanet_data.csv\")\n",
    "# Drop the null columns where all values are null\n",
    "df = df.dropna(axis='columns', how='all')\n",
    "# Drop the null rows\n",
    "df = df.dropna()\n",
    "\n",
    "# Drop columns (mean, std, graph same as ..._err1 expect negative)\n",
    "col_name = [\"koi_period_err2\",  \"koi_time0bk_err2\", \"koi_duration_err2\", \"koi_depth_err2\"]\n",
    "df = df.drop(col_name, axis=1)\n",
    "\n",
    "df.head()"
   ]
  },
  {
   "cell_type": "code",
   "execution_count": 4,
   "metadata": {},
   "outputs": [],
   "source": [
    "# koi_dispositions:\n",
    "# \"CONFIRMED\": objects confirmed to be exoplanets.\n",
    "# \"CANDIDATE\": have not yet been formally classified\n",
    "# \"FALSE POSITIVE\" objects determined not to be exoplanets.\n",
    "# Hence, drop \"CANDIDATE\" rows for training models\n",
    "#df = df.drop(df.index[df[\"koi_disposition\"] == 'CANDIDATE'])\n",
    "#df.head()"
   ]
  },
  {
   "cell_type": "markdown",
   "metadata": {},
   "source": [
    "# Select your features (columns)"
   ]
  },
  {
   "cell_type": "code",
   "execution_count": 5,
   "metadata": {},
   "outputs": [
    {
     "data": {
      "text/html": [
       "<div>\n",
       "<style scoped>\n",
       "    .dataframe tbody tr th:only-of-type {\n",
       "        vertical-align: middle;\n",
       "    }\n",
       "\n",
       "    .dataframe tbody tr th {\n",
       "        vertical-align: top;\n",
       "    }\n",
       "\n",
       "    .dataframe thead th {\n",
       "        text-align: right;\n",
       "    }\n",
       "</style>\n",
       "<table border=\"1\" class=\"dataframe\">\n",
       "  <thead>\n",
       "    <tr style=\"text-align: right;\">\n",
       "      <th></th>\n",
       "      <th>koi_fpflag_nt</th>\n",
       "      <th>koi_fpflag_ss</th>\n",
       "      <th>koi_fpflag_co</th>\n",
       "      <th>koi_fpflag_ec</th>\n",
       "      <th>koi_period</th>\n",
       "      <th>koi_period_err1</th>\n",
       "      <th>koi_time0bk_err1</th>\n",
       "      <th>koi_impact_err1</th>\n",
       "      <th>koi_duration_err1</th>\n",
       "      <th>koi_depth</th>\n",
       "      <th>koi_model_snr</th>\n",
       "      <th>koi_tce_plnt_num</th>\n",
       "      <th>koi_steff_err1</th>\n",
       "      <th>koi_steff_err2</th>\n",
       "      <th>koi_slogg</th>\n",
       "      <th>koi_slogg_err1</th>\n",
       "      <th>koi_slogg_err2</th>\n",
       "      <th>ra</th>\n",
       "    </tr>\n",
       "  </thead>\n",
       "  <tbody>\n",
       "    <tr>\n",
       "      <th>0</th>\n",
       "      <td>0</td>\n",
       "      <td>0</td>\n",
       "      <td>0</td>\n",
       "      <td>0</td>\n",
       "      <td>54.418383</td>\n",
       "      <td>2.479000e-04</td>\n",
       "      <td>0.003520</td>\n",
       "      <td>0.059</td>\n",
       "      <td>0.11600</td>\n",
       "      <td>874.8</td>\n",
       "      <td>25.8</td>\n",
       "      <td>2</td>\n",
       "      <td>81</td>\n",
       "      <td>-81</td>\n",
       "      <td>4.467</td>\n",
       "      <td>0.064</td>\n",
       "      <td>-0.096</td>\n",
       "      <td>291.93423</td>\n",
       "    </tr>\n",
       "    <tr>\n",
       "      <th>1</th>\n",
       "      <td>0</td>\n",
       "      <td>1</td>\n",
       "      <td>0</td>\n",
       "      <td>0</td>\n",
       "      <td>19.899140</td>\n",
       "      <td>1.490000e-05</td>\n",
       "      <td>0.000581</td>\n",
       "      <td>5.126</td>\n",
       "      <td>0.03410</td>\n",
       "      <td>10829.0</td>\n",
       "      <td>76.3</td>\n",
       "      <td>1</td>\n",
       "      <td>158</td>\n",
       "      <td>-176</td>\n",
       "      <td>4.544</td>\n",
       "      <td>0.044</td>\n",
       "      <td>-0.176</td>\n",
       "      <td>297.00482</td>\n",
       "    </tr>\n",
       "    <tr>\n",
       "      <th>2</th>\n",
       "      <td>0</td>\n",
       "      <td>1</td>\n",
       "      <td>0</td>\n",
       "      <td>0</td>\n",
       "      <td>1.736952</td>\n",
       "      <td>2.630000e-07</td>\n",
       "      <td>0.000115</td>\n",
       "      <td>0.115</td>\n",
       "      <td>0.00537</td>\n",
       "      <td>8079.2</td>\n",
       "      <td>505.6</td>\n",
       "      <td>1</td>\n",
       "      <td>157</td>\n",
       "      <td>-174</td>\n",
       "      <td>4.564</td>\n",
       "      <td>0.053</td>\n",
       "      <td>-0.168</td>\n",
       "      <td>285.53461</td>\n",
       "    </tr>\n",
       "    <tr>\n",
       "      <th>3</th>\n",
       "      <td>0</td>\n",
       "      <td>0</td>\n",
       "      <td>0</td>\n",
       "      <td>0</td>\n",
       "      <td>2.525592</td>\n",
       "      <td>3.760000e-06</td>\n",
       "      <td>0.001130</td>\n",
       "      <td>0.235</td>\n",
       "      <td>0.04200</td>\n",
       "      <td>603.3</td>\n",
       "      <td>40.9</td>\n",
       "      <td>1</td>\n",
       "      <td>169</td>\n",
       "      <td>-211</td>\n",
       "      <td>4.438</td>\n",
       "      <td>0.070</td>\n",
       "      <td>-0.210</td>\n",
       "      <td>288.75488</td>\n",
       "    </tr>\n",
       "    <tr>\n",
       "      <th>4</th>\n",
       "      <td>0</td>\n",
       "      <td>0</td>\n",
       "      <td>0</td>\n",
       "      <td>0</td>\n",
       "      <td>4.134435</td>\n",
       "      <td>1.050000e-05</td>\n",
       "      <td>0.001900</td>\n",
       "      <td>0.139</td>\n",
       "      <td>0.06730</td>\n",
       "      <td>686.0</td>\n",
       "      <td>40.2</td>\n",
       "      <td>2</td>\n",
       "      <td>189</td>\n",
       "      <td>-232</td>\n",
       "      <td>4.486</td>\n",
       "      <td>0.054</td>\n",
       "      <td>-0.229</td>\n",
       "      <td>296.28613</td>\n",
       "    </tr>\n",
       "  </tbody>\n",
       "</table>\n",
       "</div>"
      ],
      "text/plain": [
       "   koi_fpflag_nt  koi_fpflag_ss  koi_fpflag_co  koi_fpflag_ec  koi_period  \\\n",
       "0              0              0              0              0   54.418383   \n",
       "1              0              1              0              0   19.899140   \n",
       "2              0              1              0              0    1.736952   \n",
       "3              0              0              0              0    2.525592   \n",
       "4              0              0              0              0    4.134435   \n",
       "\n",
       "   koi_period_err1  koi_time0bk_err1  koi_impact_err1  koi_duration_err1  \\\n",
       "0     2.479000e-04          0.003520            0.059            0.11600   \n",
       "1     1.490000e-05          0.000581            5.126            0.03410   \n",
       "2     2.630000e-07          0.000115            0.115            0.00537   \n",
       "3     3.760000e-06          0.001130            0.235            0.04200   \n",
       "4     1.050000e-05          0.001900            0.139            0.06730   \n",
       "\n",
       "   koi_depth  koi_model_snr  koi_tce_plnt_num  koi_steff_err1  koi_steff_err2  \\\n",
       "0      874.8           25.8                 2              81             -81   \n",
       "1    10829.0           76.3                 1             158            -176   \n",
       "2     8079.2          505.6                 1             157            -174   \n",
       "3      603.3           40.9                 1             169            -211   \n",
       "4      686.0           40.2                 2             189            -232   \n",
       "\n",
       "   koi_slogg  koi_slogg_err1  koi_slogg_err2         ra  \n",
       "0      4.467           0.064          -0.096  291.93423  \n",
       "1      4.544           0.044          -0.176  297.00482  \n",
       "2      4.564           0.053          -0.168  285.53461  \n",
       "3      4.438           0.070          -0.210  288.75488  \n",
       "4      4.486           0.054          -0.229  296.28613  "
      ]
     },
     "execution_count": 5,
     "metadata": {},
     "output_type": "execute_result"
    }
   ],
   "source": [
    "# Set features. cols to drop based on model_logreg jupyter file\n",
    "cols = [0, 7, 9, 11, 12, 15, 16, 17, 18, 19, 20, 21, 22, 25, 31, 32, 33, 35, 36]\n",
    "\n",
    "X = df.drop(df.columns[cols],axis=1)\n",
    "y = df[\"koi_disposition\"]\n",
    "X.head()"
   ]
  },
  {
   "cell_type": "markdown",
   "metadata": {},
   "source": [
    "# Create a Train Test Split\n",
    "\n",
    "Use `koi_disposition` for the y values"
   ]
  },
  {
   "cell_type": "code",
   "execution_count": 6,
   "metadata": {},
   "outputs": [],
   "source": [
    "from sklearn.model_selection import train_test_split\n",
    "X_train, X_test, y_train, y_test = train_test_split(X, y, random_state=1)"
   ]
  },
  {
   "cell_type": "code",
   "execution_count": 7,
   "metadata": {},
   "outputs": [
    {
     "name": "stderr",
     "output_type": "stream",
     "text": [
      "Using TensorFlow backend.\n",
      "C:\\Users\\mryet\\Anaconda3\\envs\\PythonData\\lib\\site-packages\\sklearn\\preprocessing\\data.py:334: DataConversionWarning: Data with input dtype int64, float64 were all converted to float64 by MinMaxScaler.\n",
      "  return self.partial_fit(X, y)\n"
     ]
    },
    {
     "data": {
      "text/plain": [
       "array([[1., 0., 0.],\n",
       "       [0., 1., 0.],\n",
       "       [1., 0., 0.],\n",
       "       [0., 1., 0.],\n",
       "       [1., 0., 0.]], dtype=float32)"
      ]
     },
     "execution_count": 7,
     "metadata": {},
     "output_type": "execute_result"
    }
   ],
   "source": [
    "from sklearn.preprocessing import MinMaxScaler\n",
    "from sklearn.preprocessing import LabelEncoder\n",
    "from keras.utils import to_categorical\n",
    "\n",
    "Scaler = MinMaxScaler().fit(X_train)\n",
    "X_train_scaled = Scaler.transform(X_train)\n",
    "X_test_scaled = Scaler.transform(X_test)\n",
    "\n",
    "label_encoder = LabelEncoder()\n",
    "label_encoder.fit(y)\n",
    "encoded_y_train = label_encoder.transform(y_train)\n",
    "encoded_y_test = label_encoder.transform(y_test)\n",
    "\n",
    "y_train_e = to_categorical(encoded_y_train)\n",
    "y_test_e = to_categorical(encoded_y_test)\n",
    "y_train_e[:5]"
   ]
  },
  {
   "cell_type": "markdown",
   "metadata": {},
   "source": [
    "# Train the Model\n",
    "\n"
   ]
  },
  {
   "cell_type": "code",
   "execution_count": 8,
   "metadata": {},
   "outputs": [
    {
     "name": "stdout",
     "output_type": "stream",
     "text": [
      "Model: \"sequential\"\n",
      "_________________________________________________________________\n",
      "Layer (type)                 Output Shape              Param #   \n",
      "=================================================================\n",
      "dense (Dense)                (None, 40)                760       \n",
      "_________________________________________________________________\n",
      "dense_1 (Dense)              (None, 20)                820       \n",
      "_________________________________________________________________\n",
      "dense_2 (Dense)              (None, 3)                 63        \n",
      "=================================================================\n",
      "Total params: 1,643\n",
      "Trainable params: 1,643\n",
      "Non-trainable params: 0\n",
      "_________________________________________________________________\n"
     ]
    }
   ],
   "source": [
    "from tensorflow.keras.models import Sequential\n",
    "from tensorflow.keras.layers import Dense\n",
    "model = Sequential()\n",
    "model.add(Dense(units=40, activation='relu', input_dim=X_train_scaled.shape[1]))\n",
    "model.add(Dense(units=20, activation='relu'))\n",
    "model.add(Dense(units=y_train_e.shape[1], activation='softmax'))\n",
    "model.summary()"
   ]
  },
  {
   "cell_type": "code",
   "execution_count": 9,
   "metadata": {},
   "outputs": [],
   "source": [
    "model.compile(optimizer='adam', loss='categorical_crossentropy', metrics=['accuracy'])"
   ]
  },
  {
   "cell_type": "code",
   "execution_count": 10,
   "metadata": {
    "scrolled": true
   },
   "outputs": [
    {
     "data": {
      "text/plain": [
       "<tensorflow.python.keras.callbacks.History at 0x2509d0d5d30>"
      ]
     },
     "execution_count": 10,
     "metadata": {},
     "output_type": "execute_result"
    }
   ],
   "source": [
    "model.fit(X_train_scaled, y_train_e, epochs=100, shuffle=True, verbose=0)"
   ]
  },
  {
   "cell_type": "code",
   "execution_count": 11,
   "metadata": {
    "scrolled": true
   },
   "outputs": [
    {
     "name": "stdout",
     "output_type": "stream",
     "text": [
      "Normal Neural Network - Loss: 0.26977480161134326, Accuracy: 0.8809841871261597\n",
      "Normal Neural Network - Loss: 0.24866461351479763, Accuracy: 0.8941647410392761\n"
     ]
    }
   ],
   "source": [
    "model_loss, model_accuracy = model.evaluate(X_train_scaled, y_train_e, verbose=0)\n",
    "print(f\"Normal Neural Network - Loss: {model_loss}, Accuracy: {model_accuracy}\")\n",
    "model_loss, model_accuracy = model.evaluate(X_test_scaled, y_test_e, verbose=0)\n",
    "print(f\"Normal Neural Network - Loss: {model_loss}, Accuracy: {model_accuracy}\")"
   ]
  },
  {
   "cell_type": "markdown",
   "metadata": {},
   "source": [
    "# Hyperparameter Tuning\n",
    "\n",
    "Use `GridSearchCV` to tune the model's parameters"
   ]
  },
  {
   "cell_type": "code",
   "execution_count": 12,
   "metadata": {},
   "outputs": [
    {
     "name": "stdout",
     "output_type": "stream",
     "text": [
      "18 3\n"
     ]
    }
   ],
   "source": [
    "print(str(X_train_scaled.shape[1]) + \" \" + str(y_train_e.shape[1]))"
   ]
  },
  {
   "cell_type": "code",
   "execution_count": 17,
   "metadata": {},
   "outputs": [],
   "source": [
    "# Create the KerasClassifier for GridSearchCV model\n",
    "from keras.wrappers.scikit_learn import KerasClassifier\n",
    "from sklearn.model_selection import GridSearchCV\n",
    "\n",
    "def cnn(inputDim=18, outputDim=3, optimizer='adam'):\n",
    "    model = Sequential()\n",
    "    model.add(Dense(units=40, activation='relu', input_dim=inputDim))\n",
    "    model.add(Dense(units=20, activation='relu'))\n",
    "    model.add(Dense(units=outputDim, activation='softmax'))\n",
    "    model.compile(optimizer=optimizer, loss='categorical_crossentropy', metrics=['accuracy'])\n",
    "    return model\n",
    "\n",
    "model1 = KerasClassifier(build_fn=cnn, verbose=0)\n",
    "\n",
    "# Grid search paramters\n",
    "batch_size = [20, 30, 40]\n",
    "epochs=[50, 100, 150]\n",
    "optimizer = ['SGD', 'RMSprop', 'Adam']\n",
    "#learn_rate = [0.001, 0.01, 0.1, 0.2, 0.3]\n",
    "#momentum = [0.0, 0.2, 0.4, 0.6, 0.8, 0.9]\n",
    "init_mode = ['glorot_uniform', 'uniform', 'normal', 'zero']\n",
    "\n",
    "param_grid = dict(\n",
    "                  batch_size=batch_size, \n",
    "                  epochs=epochs,\n",
    "                  optimizer=optimizer\n",
    "                  #learn_rate=learn_rate,\n",
    "                  #momentum=momentum,\n",
    "                  #init_mode=init_mode\n",
    "                 )\n",
    "\n",
    "grid = GridSearchCV(estimator=model1, param_grid=param_grid, n_jobs=-1, cv=3)"
   ]
  },
  {
   "cell_type": "code",
   "execution_count": 18,
   "metadata": {},
   "outputs": [],
   "source": [
    "# Train the model with GridSearchCV model\n",
    "gridout = grid.fit(X_train_scaled, y_train)"
   ]
  },
  {
   "cell_type": "code",
   "execution_count": 19,
   "metadata": {
    "scrolled": true
   },
   "outputs": [
    {
     "name": "stdout",
     "output_type": "stream",
     "text": [
      "Best: 0.871448 using {'batch_size': 30, 'epochs': 150, 'optimizer': 'Adam'}\n",
      "Altr: 0.811177 (0.012482) with: {'batch_size': 20, 'epochs': 50, 'optimizer': 'SGD'}\n",
      "Altr: 0.864200 (0.014508) with: {'batch_size': 20, 'epochs': 50, 'optimizer': 'RMSprop'}\n",
      "Altr: 0.852375 (0.007790) with: {'batch_size': 20, 'epochs': 50, 'optimizer': 'Adam'}\n",
      "Altr: 0.820904 (0.020349) with: {'batch_size': 20, 'epochs': 100, 'optimizer': 'SGD'}\n",
      "Altr: 0.870875 (0.015040) with: {'batch_size': 20, 'epochs': 100, 'optimizer': 'RMSprop'}\n",
      "Altr: 0.869922 (0.013582) with: {'batch_size': 20, 'epochs': 100, 'optimizer': 'Adam'}\n",
      "Altr: 0.820523 (0.011991) with: {'batch_size': 20, 'epochs': 150, 'optimizer': 'SGD'}\n",
      "Altr: 0.862483 (0.004244) with: {'batch_size': 20, 'epochs': 150, 'optimizer': 'RMSprop'}\n",
      "Altr: 0.863437 (0.012881) with: {'batch_size': 20, 'epochs': 150, 'optimizer': 'Adam'}\n",
      "Altr: 0.805836 (0.020434) with: {'batch_size': 30, 'epochs': 50, 'optimizer': 'SGD'}\n",
      "Altr: 0.860004 (0.012366) with: {'batch_size': 30, 'epochs': 50, 'optimizer': 'RMSprop'}\n",
      "Altr: 0.852375 (0.015287) with: {'batch_size': 30, 'epochs': 50, 'optimizer': 'Adam'}\n",
      "Altr: 0.816327 (0.017676) with: {'batch_size': 30, 'epochs': 100, 'optimizer': 'SGD'}\n",
      "Altr: 0.866107 (0.011812) with: {'batch_size': 30, 'epochs': 100, 'optimizer': 'RMSprop'}\n",
      "Altr: 0.869159 (0.012656) with: {'batch_size': 30, 'epochs': 100, 'optimizer': 'Adam'}\n",
      "Altr: 0.820904 (0.021297) with: {'batch_size': 30, 'epochs': 150, 'optimizer': 'SGD'}\n",
      "Altr: 0.868587 (0.014327) with: {'batch_size': 30, 'epochs': 150, 'optimizer': 'RMSprop'}\n",
      "Altr: 0.871448 (0.008865) with: {'batch_size': 30, 'epochs': 150, 'optimizer': 'Adam'}\n",
      "Altr: 0.807553 (0.018091) with: {'batch_size': 40, 'epochs': 50, 'optimizer': 'SGD'}\n",
      "Altr: 0.854091 (0.010313) with: {'batch_size': 40, 'epochs': 50, 'optimizer': 'RMSprop'}\n",
      "Altr: 0.855426 (0.018925) with: {'batch_size': 40, 'epochs': 50, 'optimizer': 'Adam'}\n",
      "Altr: 0.813275 (0.015690) with: {'batch_size': 40, 'epochs': 100, 'optimizer': 'SGD'}\n",
      "Altr: 0.860767 (0.004810) with: {'batch_size': 40, 'epochs': 100, 'optimizer': 'RMSprop'}\n",
      "Altr: 0.864009 (0.014765) with: {'batch_size': 40, 'epochs': 100, 'optimizer': 'Adam'}\n",
      "Altr: 0.819569 (0.015761) with: {'batch_size': 40, 'epochs': 150, 'optimizer': 'SGD'}\n",
      "Altr: 0.868396 (0.020359) with: {'batch_size': 40, 'epochs': 150, 'optimizer': 'RMSprop'}\n",
      "Altr: 0.869540 (0.011075) with: {'batch_size': 40, 'epochs': 150, 'optimizer': 'Adam'}\n"
     ]
    }
   ],
   "source": [
    "# Output results\n",
    "print(\"Best: %f using %s\" % (gridout.best_score_, gridout.best_params_))\n",
    "means = gridout.cv_results_['mean_test_score']\n",
    "stds = gridout.cv_results_['std_test_score']\n",
    "params = gridout.cv_results_['params']\n",
    "for mean, stdev, param in zip(means, stds, params):\n",
    "    print(\"Altr: %f (%f) with: %r\" % (mean, stdev, param))"
   ]
  },
  {
   "cell_type": "markdown",
   "metadata": {},
   "source": [
    "# Save the Model"
   ]
  },
  {
   "cell_type": "code",
   "execution_count": null,
   "metadata": {},
   "outputs": [],
   "source": [
    "# if joblib fails to import, try running the command to install in terminal/git-bash\n",
    "#import joblib\n",
    "#filename = 'your_name.sav'\n",
    "#joblib.dump(your_model, filename)"
   ]
  },
  {
   "cell_type": "code",
   "execution_count": null,
   "metadata": {},
   "outputs": [],
   "source": []
  }
 ],
 "metadata": {
  "kernel_info": {
   "name": "dev"
  },
  "kernelspec": {
   "display_name": "Python 36 (PythonData)",
   "language": "python",
   "name": "pythondata"
  },
  "language_info": {
   "codemirror_mode": {
    "name": "ipython",
    "version": 3
   },
   "file_extension": ".py",
   "mimetype": "text/x-python",
   "name": "python",
   "nbconvert_exporter": "python",
   "pygments_lexer": "ipython3",
   "version": "3.6.8"
  },
  "nteract": {
   "version": "0.12.3"
  }
 },
 "nbformat": 4,
 "nbformat_minor": 2
}
